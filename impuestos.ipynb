{
  "nbformat": 4,
  "nbformat_minor": 0,
  "metadata": {
    "colab": {
      "provenance": [],
      "authorship_tag": "ABX9TyNk2Zuo0hqV82826MxAKAsn",
      "include_colab_link": true
    },
    "kernelspec": {
      "name": "python3",
      "display_name": "Python 3"
    },
    "language_info": {
      "name": "python"
    }
  },
  "cells": [
    {
      "cell_type": "markdown",
      "metadata": {
        "id": "view-in-github",
        "colab_type": "text"
      },
      "source": [
        "<a href=\"https://colab.research.google.com/github/apicem7217/Clase4/blob/Phyton/impuestos.ipynb\" target=\"_parent\"><img src=\"https://colab.research.google.com/assets/colab-badge.svg\" alt=\"Open In Colab\"/></a>"
      ]
    },
    {
      "cell_type": "code",
      "execution_count": null,
      "metadata": {
        "id": "VC5NmAITKjzS"
      },
      "outputs": [],
      "source": [
        "import pandas as pd\n",
        "pd.DataFrame(columns=)\n",
        "\n",
        "\n",
        "\n"
      ]
    },
    {
      "cell_type": "code",
      "source": [
        "ingresos = float(input(\"ingresos\"))\n",
        "if ingresos > 3000:\n",
        "  tasa = 0.3\n",
        "elif ingresos < 3000 and ingresos < 2000:\n",
        "  tasa = .2\n",
        "elif ingresos > 2000 and ingresos < 1000:\n",
        "  tasa =.1\n",
        "elif ingresos < 1000 and ingresos > 0:\n",
        "  tasa = 0.05\n",
        "else:\n",
        "  print (\"resultados\")\n",
        "pass\n",
        "resultado = ingresos * tasa\n",
        "print (\"impuestos\")\n",
        "print (resultado)\n"
      ],
      "metadata": {
        "colab": {
          "base_uri": "https://localhost:8080/"
        },
        "id": "gT3tiTszLWfC",
        "outputId": "42ea53fb-3f54-4dfd-faf8-30bc984677f3"
      },
      "execution_count": 30,
      "outputs": [
        {
          "output_type": "stream",
          "name": "stdout",
          "text": [
            "ingresos5.6\n",
            "impuestos\n",
            "1.1199999999999999\n"
          ]
        }
      ]
    }
  ]
}