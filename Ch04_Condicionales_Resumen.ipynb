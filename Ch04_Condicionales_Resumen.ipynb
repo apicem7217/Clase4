{
  "nbformat": 4,
  "nbformat_minor": 0,
  "metadata": {
    "colab": {
      "provenance": [],
      "include_colab_link": true
    },
    "kernelspec": {
      "name": "python3",
      "display_name": "Python 3"
    },
    "language_info": {
      "name": "python"
    }
  },
  "cells": [
    {
      "cell_type": "markdown",
      "metadata": {
        "id": "view-in-github",
        "colab_type": "text"
      },
      "source": [
        "<a href=\"https://colab.research.google.com/github/apicem7217/Clase4/blob/Phyton/Ch04_Condicionales_Resumen.ipynb\" target=\"_parent\"><img src=\"https://colab.research.google.com/assets/colab-badge.svg\" alt=\"Open In Colab\"/></a>"
      ]
    },
    {
      "cell_type": "markdown",
      "source": [
        "# Operadores de comparación"
      ],
      "metadata": {
        "id": "IKAAu93Q24sh"
      }
    },
    {
      "cell_type": "code",
      "source": [
        "#@title Tabla operadores de comparación { run: \"auto\", vertical-output: true }\n",
        "import pandas as pd\n",
        "pd.DataFrame(columns=['Operador', 'Nombre', 'Ejemplo'],\n",
        "             index=[1, 2, 3, 4, 5, 6],\n",
        "             data=[['==', 'Igual que', 'x == y'],\n",
        "                   ['!=', 'No es igual que', 'x != y'],\n",
        "                   ['>', 'Mayor que', 'x > y'],\n",
        "                   ['>=', 'Mayor o igual que', 'x >= y'],\n",
        "                   ['<', 'Menor que', 'x < y'],\n",
        "                   ['<=', 'Menor o igual que', 'x <= y']])"
      ],
      "metadata": {
        "colab": {
          "base_uri": "https://localhost:8080/",
          "height": 238
        },
        "id": "hM5K4WEG3G6T",
        "outputId": "fd073e57-1538-4adc-c715-66bd35d71ccf"
      },
      "execution_count": null,
      "outputs": [
        {
          "output_type": "execute_result",
          "data": {
            "text/plain": [
              "  Operador             Nombre Ejemplo\n",
              "1       ==          Igual que  x == y\n",
              "2       !=    No es igual que  x != y\n",
              "3        >          Mayor que   x > y\n",
              "4       >=  Mayor o igual que  x >= y\n",
              "5        <          Menor que   x < y\n",
              "6       <=  Menor o igual que  x <= y"
            ],
            "text/html": [
              "\n",
              "\n",
              "  <div id=\"df-57710e8f-a7c9-4053-83d6-4441debd5202\">\n",
              "    <div class=\"colab-df-container\">\n",
              "      <div>\n",
              "<style scoped>\n",
              "    .dataframe tbody tr th:only-of-type {\n",
              "        vertical-align: middle;\n",
              "    }\n",
              "\n",
              "    .dataframe tbody tr th {\n",
              "        vertical-align: top;\n",
              "    }\n",
              "\n",
              "    .dataframe thead th {\n",
              "        text-align: right;\n",
              "    }\n",
              "</style>\n",
              "<table border=\"1\" class=\"dataframe\">\n",
              "  <thead>\n",
              "    <tr style=\"text-align: right;\">\n",
              "      <th></th>\n",
              "      <th>Operador</th>\n",
              "      <th>Nombre</th>\n",
              "      <th>Ejemplo</th>\n",
              "    </tr>\n",
              "  </thead>\n",
              "  <tbody>\n",
              "    <tr>\n",
              "      <th>1</th>\n",
              "      <td>==</td>\n",
              "      <td>Igual que</td>\n",
              "      <td>x == y</td>\n",
              "    </tr>\n",
              "    <tr>\n",
              "      <th>2</th>\n",
              "      <td>!=</td>\n",
              "      <td>No es igual que</td>\n",
              "      <td>x != y</td>\n",
              "    </tr>\n",
              "    <tr>\n",
              "      <th>3</th>\n",
              "      <td>&gt;</td>\n",
              "      <td>Mayor que</td>\n",
              "      <td>x &gt; y</td>\n",
              "    </tr>\n",
              "    <tr>\n",
              "      <th>4</th>\n",
              "      <td>&gt;=</td>\n",
              "      <td>Mayor o igual que</td>\n",
              "      <td>x &gt;= y</td>\n",
              "    </tr>\n",
              "    <tr>\n",
              "      <th>5</th>\n",
              "      <td>&lt;</td>\n",
              "      <td>Menor que</td>\n",
              "      <td>x &lt; y</td>\n",
              "    </tr>\n",
              "    <tr>\n",
              "      <th>6</th>\n",
              "      <td>&lt;=</td>\n",
              "      <td>Menor o igual que</td>\n",
              "      <td>x &lt;= y</td>\n",
              "    </tr>\n",
              "  </tbody>\n",
              "</table>\n",
              "</div>\n",
              "      <button class=\"colab-df-convert\" onclick=\"convertToInteractive('df-57710e8f-a7c9-4053-83d6-4441debd5202')\"\n",
              "              title=\"Convert this dataframe to an interactive table.\"\n",
              "              style=\"display:none;\">\n",
              "\n",
              "  <svg xmlns=\"http://www.w3.org/2000/svg\" height=\"24px\"viewBox=\"0 0 24 24\"\n",
              "       width=\"24px\">\n",
              "    <path d=\"M0 0h24v24H0V0z\" fill=\"none\"/>\n",
              "    <path d=\"M18.56 5.44l.94 2.06.94-2.06 2.06-.94-2.06-.94-.94-2.06-.94 2.06-2.06.94zm-11 1L8.5 8.5l.94-2.06 2.06-.94-2.06-.94L8.5 2.5l-.94 2.06-2.06.94zm10 10l.94 2.06.94-2.06 2.06-.94-2.06-.94-.94-2.06-.94 2.06-2.06.94z\"/><path d=\"M17.41 7.96l-1.37-1.37c-.4-.4-.92-.59-1.43-.59-.52 0-1.04.2-1.43.59L10.3 9.45l-7.72 7.72c-.78.78-.78 2.05 0 2.83L4 21.41c.39.39.9.59 1.41.59.51 0 1.02-.2 1.41-.59l7.78-7.78 2.81-2.81c.8-.78.8-2.07 0-2.86zM5.41 20L4 18.59l7.72-7.72 1.47 1.35L5.41 20z\"/>\n",
              "  </svg>\n",
              "      </button>\n",
              "\n",
              "\n",
              "\n",
              "    <div id=\"df-282191eb-aec6-489f-86a2-87c92cf00a49\">\n",
              "      <button class=\"colab-df-quickchart\" onclick=\"quickchart('df-282191eb-aec6-489f-86a2-87c92cf00a49')\"\n",
              "              title=\"Suggest charts.\"\n",
              "              style=\"display:none;\">\n",
              "\n",
              "<svg xmlns=\"http://www.w3.org/2000/svg\" height=\"24px\"viewBox=\"0 0 24 24\"\n",
              "     width=\"24px\">\n",
              "    <g>\n",
              "        <path d=\"M19 3H5c-1.1 0-2 .9-2 2v14c0 1.1.9 2 2 2h14c1.1 0 2-.9 2-2V5c0-1.1-.9-2-2-2zM9 17H7v-7h2v7zm4 0h-2V7h2v10zm4 0h-2v-4h2v4z\"/>\n",
              "    </g>\n",
              "</svg>\n",
              "      </button>\n",
              "    </div>\n",
              "\n",
              "<style>\n",
              "  .colab-df-quickchart {\n",
              "    background-color: #E8F0FE;\n",
              "    border: none;\n",
              "    border-radius: 50%;\n",
              "    cursor: pointer;\n",
              "    display: none;\n",
              "    fill: #1967D2;\n",
              "    height: 32px;\n",
              "    padding: 0 0 0 0;\n",
              "    width: 32px;\n",
              "  }\n",
              "\n",
              "  .colab-df-quickchart:hover {\n",
              "    background-color: #E2EBFA;\n",
              "    box-shadow: 0px 1px 2px rgba(60, 64, 67, 0.3), 0px 1px 3px 1px rgba(60, 64, 67, 0.15);\n",
              "    fill: #174EA6;\n",
              "  }\n",
              "\n",
              "  [theme=dark] .colab-df-quickchart {\n",
              "    background-color: #3B4455;\n",
              "    fill: #D2E3FC;\n",
              "  }\n",
              "\n",
              "  [theme=dark] .colab-df-quickchart:hover {\n",
              "    background-color: #434B5C;\n",
              "    box-shadow: 0px 1px 3px 1px rgba(0, 0, 0, 0.15);\n",
              "    filter: drop-shadow(0px 1px 2px rgba(0, 0, 0, 0.3));\n",
              "    fill: #FFFFFF;\n",
              "  }\n",
              "</style>\n",
              "\n",
              "    <script>\n",
              "      async function quickchart(key) {\n",
              "        const containerElement = document.querySelector('#' + key);\n",
              "        const charts = await google.colab.kernel.invokeFunction(\n",
              "            'suggestCharts', [key], {});\n",
              "      }\n",
              "    </script>\n",
              "\n",
              "      <script>\n",
              "\n",
              "function displayQuickchartButton(domScope) {\n",
              "  let quickchartButtonEl =\n",
              "    domScope.querySelector('#df-282191eb-aec6-489f-86a2-87c92cf00a49 button.colab-df-quickchart');\n",
              "  quickchartButtonEl.style.display =\n",
              "    google.colab.kernel.accessAllowed ? 'block' : 'none';\n",
              "}\n",
              "\n",
              "        displayQuickchartButton(document);\n",
              "      </script>\n",
              "      <style>\n",
              "    .colab-df-container {\n",
              "      display:flex;\n",
              "      flex-wrap:wrap;\n",
              "      gap: 12px;\n",
              "    }\n",
              "\n",
              "    .colab-df-convert {\n",
              "      background-color: #E8F0FE;\n",
              "      border: none;\n",
              "      border-radius: 50%;\n",
              "      cursor: pointer;\n",
              "      display: none;\n",
              "      fill: #1967D2;\n",
              "      height: 32px;\n",
              "      padding: 0 0 0 0;\n",
              "      width: 32px;\n",
              "    }\n",
              "\n",
              "    .colab-df-convert:hover {\n",
              "      background-color: #E2EBFA;\n",
              "      box-shadow: 0px 1px 2px rgba(60, 64, 67, 0.3), 0px 1px 3px 1px rgba(60, 64, 67, 0.15);\n",
              "      fill: #174EA6;\n",
              "    }\n",
              "\n",
              "    [theme=dark] .colab-df-convert {\n",
              "      background-color: #3B4455;\n",
              "      fill: #D2E3FC;\n",
              "    }\n",
              "\n",
              "    [theme=dark] .colab-df-convert:hover {\n",
              "      background-color: #434B5C;\n",
              "      box-shadow: 0px 1px 3px 1px rgba(0, 0, 0, 0.15);\n",
              "      filter: drop-shadow(0px 1px 2px rgba(0, 0, 0, 0.3));\n",
              "      fill: #FFFFFF;\n",
              "    }\n",
              "  </style>\n",
              "\n",
              "      <script>\n",
              "        const buttonEl =\n",
              "          document.querySelector('#df-57710e8f-a7c9-4053-83d6-4441debd5202 button.colab-df-convert');\n",
              "        buttonEl.style.display =\n",
              "          google.colab.kernel.accessAllowed ? 'block' : 'none';\n",
              "\n",
              "        async function convertToInteractive(key) {\n",
              "          const element = document.querySelector('#df-57710e8f-a7c9-4053-83d6-4441debd5202');\n",
              "          const dataTable =\n",
              "            await google.colab.kernel.invokeFunction('convertToInteractive',\n",
              "                                                     [key], {});\n",
              "          if (!dataTable) return;\n",
              "\n",
              "          const docLinkHtml = 'Like what you see? Visit the ' +\n",
              "            '<a target=\"_blank\" href=https://colab.research.google.com/notebooks/data_table.ipynb>data table notebook</a>'\n",
              "            + ' to learn more about interactive tables.';\n",
              "          element.innerHTML = '';\n",
              "          dataTable['output_type'] = 'display_data';\n",
              "          await google.colab.output.renderOutput(dataTable, element);\n",
              "          const docLink = document.createElement('div');\n",
              "          docLink.innerHTML = docLinkHtml;\n",
              "          element.appendChild(docLink);\n",
              "        }\n",
              "      </script>\n",
              "    </div>\n",
              "  </div>\n"
            ]
          },
          "metadata": {},
          "execution_count": 7
        }
      ]
    },
    {
      "cell_type": "code",
      "source": [
        "# Recuerda que al utilizar operadores de comparación nos devolveran\n",
        "# un valor de tipo boleano\n",
        "print(1 == 1)\n",
        "print(type(1 == 1))"
      ],
      "metadata": {
        "colab": {
          "base_uri": "https://localhost:8080/"
        },
        "id": "uW6R0FGJ3Jpd",
        "outputId": "b52b4139-1bec-4b79-e77b-41b85959bddb"
      },
      "execution_count": null,
      "outputs": [
        {
          "output_type": "stream",
          "name": "stdout",
          "text": [
            "True\n",
            "<class 'bool'>\n"
          ]
        }
      ]
    },
    {
      "cell_type": "code",
      "source": [
        "print(1 == 2)\n",
        "print(type(1 == 2))"
      ],
      "metadata": {
        "colab": {
          "base_uri": "https://localhost:8080/"
        },
        "id": "euUmJNun3McR",
        "outputId": "4b3a4697-f33c-4464-89f5-f318cfa132c4"
      },
      "execution_count": null,
      "outputs": [
        {
          "output_type": "stream",
          "name": "stdout",
          "text": [
            "False\n",
            "<class 'bool'>\n"
          ]
        }
      ]
    },
    {
      "cell_type": "markdown",
      "source": [
        "## Ejercicios con operadores\n",
        "\n",
        "1. Convierte a código la siquiente expresión: <br>\n",
        "`20` `menor que`  `\"20.0001\"` <br>\n",
        "**Notas:** <br>\n",
        "20 es de tipo int <br>\n",
        "\"20.0001\" es de tipo str <br>\n",
        "Usa el casteo (casting) <br>\n",
        "Resultado esperado: True"
      ],
      "metadata": {
        "id": "LwLqSk-W3bVC"
      }
    },
    {
      "cell_type": "code",
      "source": [
        "# Aquí va tu código"
      ],
      "metadata": {
        "id": "-JkbLivt3ZVY"
      },
      "execution_count": null,
      "outputs": []
    },
    {
      "cell_type": "markdown",
      "source": [
        "2. Compara si el texto 1 es **igual que** el texto 2, e imprime el resultado. Resultado esperado: False"
      ],
      "metadata": {
        "id": "mtD8-pKE3iYY"
      }
    },
    {
      "cell_type": "code",
      "source": [
        "texto_1 = 'Marty! Tienes que venir conmigo, de regreso al futuro!'\n",
        "texto_2 = 'Marty! Tienes que venir conmigo, de regreso a1 futuro!'\n",
        "\n",
        "# Aquí va tu código"
      ],
      "metadata": {
        "id": "Y3V31A3J3lOp"
      },
      "execution_count": null,
      "outputs": []
    },
    {
      "cell_type": "code",
      "source": [
        "#@title Tabla operadores de lógicos { run: \"auto\", vertical-output: true }\n",
        "import pandas as pd\n",
        "from IPython.display import display, HTML\n",
        "\n",
        "def pretty_print(df):\n",
        "    return display(HTML(df.to_html().replace(\"\\\\n\",\"<br>\") ) )\n",
        "\n",
        "df = pd.DataFrame(columns=['Operador', 'Descripción', 'Ejemplo'],\n",
        "             index=[1, 2, 3],\n",
        "             data=[['and', 'True si ambas evaluaciones son True', 'True and True == a True \\\\n True and False == False'],\n",
        "                   ['or', 'True si alguna evaluación es True', 'True or True == False \\n True or False == True'],\n",
        "                   ['not', 'False si alguna evaluación es False', 'True or False == False, \\n False or False']])\n",
        "\n",
        "pretty_print(df)"
      ],
      "metadata": {
        "id": "M-WIR8r238nZ"
      },
      "execution_count": null,
      "outputs": []
    },
    {
      "cell_type": "code",
      "source": [
        "# Operador and\n",
        "True and True"
      ],
      "metadata": {
        "id": "UnIkVwti4BS0",
        "outputId": "b24104a7-6bee-4170-f394-f99114d2e7b0",
        "colab": {
          "base_uri": "https://localhost:8080/"
        }
      },
      "execution_count": null,
      "outputs": [
        {
          "output_type": "execute_result",
          "data": {
            "text/plain": [
              "True"
            ]
          },
          "metadata": {},
          "execution_count": 8
        }
      ]
    },
    {
      "cell_type": "code",
      "source": [
        "True and False"
      ],
      "metadata": {
        "id": "KC3yeS3D4D6n",
        "outputId": "becfcb52-bb26-440d-9fbd-ae49ca98f55f",
        "colab": {
          "base_uri": "https://localhost:8080/"
        }
      },
      "execution_count": null,
      "outputs": [
        {
          "output_type": "execute_result",
          "data": {
            "text/plain": [
              "False"
            ]
          },
          "metadata": {},
          "execution_count": 9
        }
      ]
    },
    {
      "cell_type": "code",
      "source": [
        "# Operador or\n",
        "True or False"
      ],
      "metadata": {
        "id": "B8dib-ML4Fan"
      },
      "execution_count": null,
      "outputs": []
    },
    {
      "cell_type": "markdown",
      "source": [
        "# Condicionales\n",
        "\n",
        "Las sentencias condicionales o simplemente **condicionales**, nos permite controlar o condicionar el flujo de nuestro código. <br>\n",
        "\n",
        "Dicho de otro modo, nos permite tomar decisiones. <br>\n",
        "\n",
        "\n",
        "**Palabras clave:**\n",
        "if, elif, else\n",
        "\n",
        "## Bloque de código\n",
        "\n",
        "Es un grupo de sentencias (líneas de código) que se ejecuta como una unidad. <br>\n",
        "Están relacionadas y se encuentran bien delimitadas. <br>\n",
        "En Python se usa la **identación** (4 espacios o 1 tabulación (tab)) al inicio de la línea de código.\n",
        "\n",
        "\n",
        "\n"
      ],
      "metadata": {
        "id": "0LSgqMWvoQzB"
      }
    },
    {
      "cell_type": "markdown",
      "source": [
        "**Depuración de código** <br>\n",
        "**IndentationError:** expected an indented block\n",
        "Este error sucede cuando no tenemos los 4 espacios o 1 tabulación (tab)"
      ],
      "metadata": {
        "id": "XXsqbjaCx5py"
      }
    },
    {
      "cell_type": "markdown",
      "source": [
        "# Condicional if\n",
        "\n",
        "Si se cumple la condición, se ejecuta el bloque de código.\n",
        "\n",
        "```\n",
        "if condicion:\n",
        "----bloque de código que se ejecuta.\n",
        "\n",
        "if condicion:\n",
        "    bloque de código que se ejecuta.\n",
        "\n",
        "if True:\n",
        "    bloque de código que se ejecuta.\n",
        "    \n",
        "\n",
        "# Nota: los guiones son una ayuda visual para identificar la identación.\n",
        "```"
      ],
      "metadata": {
        "id": "IHG66QT6pkSy"
      }
    },
    {
      "cell_type": "markdown",
      "source": [
        "La condición siempre se evalúa.\n",
        "- Si es True se ejecuta el bloque\n",
        "- Si es False NO se ejecuta el bloque"
      ],
      "metadata": {
        "id": "xsJ-hm0CtTrP"
      }
    },
    {
      "cell_type": "markdown",
      "source": [
        "Es lunes por la mañana, suena el timbre, despierto con flojera y pienso: <br>\n",
        "- ¿Me quedo más tiempo en la cama o me levanto?\n",
        "\n",
        "```\n",
        "accion = 'dormir' ó accion = 'levantarse'\n",
        "\n",
        "if accion == 'dormir':\n",
        "    # Inicia bloque\n",
        "    print('Llegaré tarde a trabajar')\n",
        "    print('Me la juego')\n",
        "    # Termina bloque\n",
        "\n",
        "print('Hoy si me duermo más temprano')\n",
        "\n",
        "```\n",
        "\n"
      ],
      "metadata": {
        "id": "8kyYX82Mophf"
      }
    },
    {
      "cell_type": "code",
      "execution_count": null,
      "metadata": {
        "id": "NTyD6v-GiJV7"
      },
      "outputs": [],
      "source": []
    },
    {
      "cell_type": "code",
      "source": [
        "accion = True\n",
        "if accion:\n",
        "  print('Se ejecuta este código')"
      ],
      "metadata": {
        "id": "Y_Cy5VJ-0RMB"
      },
      "execution_count": null,
      "outputs": []
    },
    {
      "cell_type": "markdown",
      "source": [
        "# Condicional if, else\n",
        "Si se cumple la condición, se ejecuta el **primer** bloque de código. <br>\n",
        "Si NO se cumple la condición, se ejecuta el **segundo** bloque de código\n",
        "\n",
        "```\n",
        "if condicion:\n",
        "----PRIMER bloque de código.\n",
        "else:\n",
        "----SEGUNDO bloque de código.\n",
        "```\n",
        "\n",
        "**Nota:** El condicional **else** es opcional, pero es una buena práctica siempre escribirlo para finalizar nuestro condicional."
      ],
      "metadata": {
        "id": "a3xD7RQksWNO"
      }
    },
    {
      "cell_type": "code",
      "source": [
        "accion = 'dormir'\n",
        "# accion = 'levantarse'\n",
        "\n",
        "if accion == 'dormir':\n",
        "  print('Llegaré tarde a trabajar')\n",
        "else:\n",
        "  print('LLegaré con sueño al trabajo')"
      ],
      "metadata": {
        "id": "2Bsdc9VrsK9w"
      },
      "execution_count": null,
      "outputs": []
    },
    {
      "cell_type": "markdown",
      "source": [
        "# Condicional if, else, elif\n",
        "\n",
        "Con el condicional **if** iniciamos la evaluación, y con **else** cerramos la evaluación. <br>\n",
        "\n",
        "El condicional **elif** es la parte intermedia, que nos permite tener más de dos opciones.\n",
        "\n",
        "\n",
        "\n",
        "```\n",
        "if condicion:\n",
        "----PRIMER bloque de código.\n",
        "elif condicion:\n",
        "----SEGUNDO bloque de código.\n",
        "elif condicion:\n",
        "----TERCER bloque de código.\n",
        "else:\n",
        "----CUARTO bloque de código.\n",
        "```"
      ],
      "metadata": {
        "id": "p0CudfWlt4Ih"
      }
    },
    {
      "cell_type": "code",
      "source": [
        "accion = 'dormir'\n",
        "# accion = 'levantarse'\n",
        "\n",
        "if accion == 'dormir':\n",
        "  print('Llegaré tarde a trabajar')\n",
        "elif accion == 'levantarse':\n",
        "  print('LLegaré con sueño al trabajo')\n",
        "else:\n",
        "  print('Error: los valores aceptados son: `dormir` ó `levantarse`')"
      ],
      "metadata": {
        "id": "iKC-y2bYfyRB"
      },
      "execution_count": null,
      "outputs": []
    },
    {
      "cell_type": "code",
      "source": [
        "temperatura = 15\n",
        "\n",
        "if temperatura < 0:\n",
        "  print('Me congelo!!')\n",
        "elif temperatura >= 0 and temperatura <= 10:\n",
        "  print('Que frío!!')\n",
        "else:\n",
        "  print('Hace calorcito')"
      ],
      "metadata": {
        "id": "5xZzWuIWzbTf"
      },
      "execution_count": null,
      "outputs": []
    },
    {
      "cell_type": "markdown",
      "source": [
        "# Lab: 'No voy a trabajar'\n",
        "\n",
        "Convertir la canción *No voy a trabajar* a una sentencia de tipo if, elif, else, para los días de la semana."
      ],
      "metadata": {
        "id": "twoZJDp_xLLp"
      }
    },
    {
      "cell_type": "code",
      "source": [],
      "metadata": {
        "id": "PWxIP67EvaXs"
      },
      "execution_count": null,
      "outputs": []
    },
    {
      "cell_type": "markdown",
      "source": [
        "# Ejercicio: Números pares e impares\n",
        "Generá un código para determinar si un número es par o impar."
      ],
      "metadata": {
        "id": "1m7ahSQZtGwt"
      }
    },
    {
      "cell_type": "code",
      "source": [],
      "metadata": {
        "id": "t7jbd4ELt1lZ"
      },
      "execution_count": null,
      "outputs": []
    },
    {
      "cell_type": "markdown",
      "source": [
        "# Ejercicio: Impuestos\n",
        "Los tramos impositivos para la declaración de ingresos son los siguientes:\n"
      ],
      "metadata": {
        "id": "7mYP8Ikb0qZH"
      }
    },
    {
      "cell_type": "code",
      "source": [
        "import pandas as pd\n",
        "pd.DataFrame(columns=['Ingresos', 'Tasa impositiva'],\n",
        "             index=[1, 2, 3, 4],\n",
        "             data=[['Menos de 1,000', '5 %'],\n",
        "                   ['Entre 1,000 y 2,000', '15 %'],\n",
        "                   ['Entre 2,000 y 3,000', '20 %'],\n",
        "                   ['Más de 3,000', '30 %']])"
      ],
      "metadata": {
        "id": "c-ZfgqQ80p-2"
      },
      "execution_count": null,
      "outputs": []
    },
    {
      "cell_type": "markdown",
      "source": [
        "Escribir un programa que pregunte al usuario su renta anual y muestre por pantalla el tipo el total de impuestos a pagar en función de la tasa impositiva.\n",
        "1.   Usa la función **input** para solicitar el ingreso del usuario\n",
        "2.   Usa las sentencias condicionales (if, elif, else) para crear el flujo\n",
        "3.   Realiza la operación para obtener el total de impuestos a pagar\n",
        "4.   Imprime los resultados\n",
        "\n"
      ],
      "metadata": {
        "id": "8DsIEtD800ST"
      }
    },
    {
      "cell_type": "code",
      "source": [],
      "metadata": {
        "id": "B-0s6PFj0zTs"
      },
      "execution_count": null,
      "outputs": []
    },
    {
      "cell_type": "markdown",
      "source": [
        "## Condicionales anidados\n",
        "\n",
        "```\n",
        "if primer_condicion:\n",
        "----bloque 1 de código.\n",
        "----if segunda_condicion:\n",
        "--------bloque 1A de código.\n",
        "----else:\n",
        "--------bloque 1B de código.\n",
        "else:\n",
        "----bloque 2 de código.\n",
        "----if segunda_condicion:\n",
        "--------bloque 2A de código.\n",
        "----else:\n",
        "--------bloque 2B de código.\n",
        "```"
      ],
      "metadata": {
        "id": "uCdJxI0yxxUO"
      }
    },
    {
      "cell_type": "markdown",
      "source": [
        "## Lab: Login\n",
        "Escribir un programa que pida un usuario y contraseña para iniciar sesión.\n",
        "\n",
        "1.   Solicita el nombre de usuario\n",
        "2.   Solicita el password\n",
        "3.   Revisa que el nombre de usuario sea válido\n",
        "4.   Verifica que la contraseña sea correcta"
      ],
      "metadata": {
        "id": "0OfxHB_d09Qi"
      }
    },
    {
      "cell_type": "code",
      "source": [
        "# BASE DE DATOS DB\n",
        "user_db = 'cuau2077'\n",
        "password_db = '1234'"
      ],
      "metadata": {
        "id": "IU5dDjDC3E5-"
      },
      "execution_count": null,
      "outputs": []
    },
    {
      "cell_type": "code",
      "source": [
        "# Paso 1\n",
        "user = input('Ingrese su usuario: ')"
      ],
      "metadata": {
        "id": "3nkaOP0p30ED"
      },
      "execution_count": null,
      "outputs": []
    },
    {
      "cell_type": "code",
      "source": [
        "print(user)"
      ],
      "metadata": {
        "id": "jja-Awol36gA"
      },
      "execution_count": null,
      "outputs": []
    },
    {
      "cell_type": "code",
      "source": [
        "# Paso 2\n",
        "password = input('Ingrese su contraseña: ')"
      ],
      "metadata": {
        "id": "yCMPGTQ-38kA"
      },
      "execution_count": null,
      "outputs": []
    },
    {
      "cell_type": "code",
      "source": [
        "print(password)"
      ],
      "metadata": {
        "id": "kWXftA9k4CEO"
      },
      "execution_count": null,
      "outputs": []
    },
    {
      "cell_type": "code",
      "source": [
        "print(type(password))"
      ],
      "metadata": {
        "id": "RutKeKas4EMq"
      },
      "execution_count": null,
      "outputs": []
    },
    {
      "cell_type": "code",
      "source": [
        "# Paso 3\n",
        "# Verificamos que el usaurio existe en\n",
        "# la base de datos\n",
        "if user == 'cuau2077':\n",
        "  print('El usuario existe')\n",
        "else:\n",
        "  print('Verifique el nombre de usuario')"
      ],
      "metadata": {
        "id": "0IS_wUjMxwMo"
      },
      "execution_count": null,
      "outputs": []
    },
    {
      "cell_type": "code",
      "source": [
        "# Verificamos que el usaurio existe en\n",
        "# la base de datos\n",
        "if user == 'cuau2077':\n",
        "  print('El usuario existe')\n",
        "  if password == password: # Paso 4\n",
        "    print('Iniciaste sesión exitosamente')\n",
        "  else:\n",
        "    print('Contraseña incorrecta')\n",
        "else:\n",
        "  print('Verifique el nombre de usuario')"
      ],
      "metadata": {
        "id": "SX56wO7p3ac2"
      },
      "execution_count": null,
      "outputs": []
    }
  ]
}